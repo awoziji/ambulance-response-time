{
 "cells": [
  {
   "cell_type": "markdown",
   "metadata": {},
   "source": [
    "# Distances and trip durations with google maps API"
   ]
  },
  {
   "cell_type": "code",
   "execution_count": 1,
   "metadata": {},
   "outputs": [],
   "source": [
    "import json\n",
    "import googlemaps\n",
    "import numpy as np\n",
    "import pandas as pd\n",
    "\n",
    "from shapely import wkt\n",
    "from datetime import datetime"
   ]
  },
  {
   "cell_type": "markdown",
   "metadata": {},
   "source": [
    "## Loading the data"
   ]
  },
  {
   "cell_type": "code",
   "execution_count": 2,
   "metadata": {},
   "outputs": [],
   "source": [
    "hospitals = pd.read_csv('./data/mainhospitals.csv')"
   ]
  },
  {
   "cell_type": "code",
   "execution_count": 4,
   "metadata": {},
   "outputs": [],
   "source": [
    "cityblock = pd.read_csv('data/maindata.csv')"
   ]
  },
  {
   "cell_type": "code",
   "execution_count": null,
   "metadata": {},
   "outputs": [],
   "source": []
  },
  {
   "cell_type": "code",
   "execution_count": 3,
   "metadata": {},
   "outputs": [],
   "source": [
    "hospitals_list = [(coord.y, coord.x) for coord in [wkt.loads(point) for point in hospitals.point]]"
   ]
  },
  {
   "cell_type": "code",
   "execution_count": 5,
   "metadata": {},
   "outputs": [],
   "source": [
    "cityblock['centroid'] = [wkt.loads(point) for point in cityblock.centroid]"
   ]
  },
  {
   "cell_type": "markdown",
   "metadata": {},
   "source": [
    "## API calls"
   ]
  },
  {
   "cell_type": "code",
   "execution_count": null,
   "metadata": {},
   "outputs": [],
   "source": [
    "gmaps = googlemaps.Client(key='Your Key Here')"
   ]
  },
  {
   "cell_type": "code",
   "execution_count": null,
   "metadata": {},
   "outputs": [],
   "source": [
    "# MODIFY THIS IF THIS CODE IS OLDER THAN THE DATE BELOW\n",
    "when = datetime(2018, 11, 27, 8, 0, 0)"
   ]
  },
  {
   "cell_type": "code",
   "execution_count": null,
   "metadata": {},
   "outputs": [],
   "source": [
    "# DO NOT GIT!!!!!!!!!!!!!!!!!!!!!!!!!!!!!!!!!!!!!!!!!!!1\n",
    "\n",
    "for i, block in cityblock.iterrows():\n",
    "    \n",
    "    target = (block.centroid.y, block.centroid.x)\n",
    "    \n",
    "    try:\n",
    "        response = gmaps.distance_matrix(target, hospitals_list, mode='driving', departure_time=when)\n",
    "        response = {'status': 'OK', 'id': block.id, 'response': response}\n",
    "    except:\n",
    "        print(block.tag)\n",
    "        response = {'status': 'ERROR', 'id': block.id, 'response': 'empty'}\n",
    "    \n",
    "    with open(f'data/APIresponse/{block.tag}.json', 'w') as file:\n",
    "        json.dump(response, file, ensure_ascii=False)    "
   ]
  },
  {
   "cell_type": "markdown",
   "metadata": {},
   "source": [
    "## Data exploration"
   ]
  },
  {
   "cell_type": "code",
   "execution_count": 6,
   "metadata": {},
   "outputs": [],
   "source": [
    "hospitals_array = hospitals.id.tolist()"
   ]
  },
  {
   "cell_type": "code",
   "execution_count": 7,
   "metadata": {},
   "outputs": [],
   "source": [
    "for i, block in cityblock.iterrows():\n",
    "    index = hospitals_array.index(block.area_id)\n",
    "    with open(f'./data/APIresponse/{block.tag}.json', 'r') as file:\n",
    "        content = json.load(file)\n",
    "    times = content['response']['rows'][0]['elements']\n",
    "    cityblock.loc[i, 'area_time'] = times[index]['duration']['value']\n",
    "    cityblock.loc[i, 'area_distance'] = times[index]['distance']['value']/1000\n",
    "    \n",
    "    # index = hospitals_array.index(block.nearest_id)\n",
    "    # with open(f'./data/APIresponse/{block.tag}.json', 'r') as file:\n",
    "    #    content = json.load(file)\n",
    "    # times = content['response']['rows'][0]['elements']\n",
    "    # cityblock.loc[i, 'nearest_time'] = times[index]['duration']['value']\n",
    "\n",
    "cityblock['area_time'] = cityblock.area_time.astype(int)\n",
    "# cityblock['nearest_time'] = cityblock.nearest_time.astype(int)"
   ]
  },
  {
   "cell_type": "code",
   "execution_count": 9,
   "metadata": {},
   "outputs": [],
   "source": [
    "for i, block in cityblock.iterrows():\n",
    "    \n",
    "    with open(f'./data/APIresponse/{block.tag}.json', 'r') as file:\n",
    "        content = json.load(file)\n",
    "    \n",
    "    times = content['response']['rows'][0]['elements']\n",
    "\n",
    "    fastest = min(times, key=lambda x: x['duration']['value'])\n",
    "\n",
    "    which = times.index(fastest)\n",
    "    cityblock.loc[i, 'fastest_id'] = int(hospitals_array[which])\n",
    "    cityblock.loc[i, 'fastest_distance'] = fastest['distance']['value']/1000\n",
    "    cityblock.loc[i, 'fastest_time'] = fastest['duration']['value']\n",
    "    \n",
    "cityblock['fastest_id'] = cityblock.fastest_id.astype(int)\n",
    "cityblock['fastest_time'] = cityblock.fastest_time.astype(int)"
   ]
  },
  {
   "cell_type": "code",
   "execution_count": 13,
   "metadata": {},
   "outputs": [],
   "source": [
    "columns_order = ['id', 'tag', 'population', 'geometry', 'centroid',\n",
    "                 'area_id', 'area_distance', 'area_time',\n",
    "                 'fastest_id', 'fastest_distance', 'fastest_time']\n",
    "\n",
    "cityblock = cityblock.loc[:, columns_order]"
   ]
  },
  {
   "cell_type": "code",
   "execution_count": 15,
   "metadata": {},
   "outputs": [],
   "source": [
    "cityblock.to_csv('data/maindata.csv', index=False)"
   ]
  },
  {
   "cell_type": "code",
   "execution_count": null,
   "metadata": {},
   "outputs": [],
   "source": []
  }
 ],
 "metadata": {
  "kernelspec": {
   "display_name": "Python 3",
   "language": "python",
   "name": "python3"
  },
  "language_info": {
   "codemirror_mode": {
    "name": "ipython",
    "version": 3
   },
   "file_extension": ".py",
   "mimetype": "text/x-python",
   "name": "python",
   "nbconvert_exporter": "python",
   "pygments_lexer": "ipython3",
   "version": "3.6.6"
  }
 },
 "nbformat": 4,
 "nbformat_minor": 2
}
